{
  "nbformat": 4,
  "nbformat_minor": 0,
  "metadata": {
    "colab": {
      "provenance": [],
      "authorship_tag": "ABX9TyOSLQlPVoTn7M5AiRrF3LeD",
      "include_colab_link": true
    },
    "kernelspec": {
      "name": "python3",
      "display_name": "Python 3"
    },
    "language_info": {
      "name": "python"
    }
  },
  "cells": [
    {
      "cell_type": "markdown",
      "metadata": {
        "id": "view-in-github",
        "colab_type": "text"
      },
      "source": [
        "<a href=\"https://colab.research.google.com/github/Valadezquiliam/Ejercicios/blob/main/Calculo_de_velocidad.ipynb\" target=\"_parent\"><img src=\"https://colab.research.google.com/assets/colab-badge.svg\" alt=\"Open In Colab\"/></a>"
      ]
    },
    {
      "cell_type": "markdown",
      "source": [
        "# Cálculo de la velocidad"
      ],
      "metadata": {
        "id": "wHJY0HW6pmIB"
      }
    },
    {
      "cell_type": "code",
      "source": [
        "x = float(input(\"Ingrese la distancia en metros: \"))\n",
        "t = float(input(\"Ingrese el tiempo en segundos: \"))\n",
        "v = x/t\n",
        "print(f\"La velocidad es: {v} m/s\")"
      ],
      "metadata": {
        "colab": {
          "base_uri": "https://localhost:8080/"
        },
        "id": "UGcnOgcfplJ-",
        "outputId": "786bb61f-18d4-45ad-c9fb-1c31e0306d25"
      },
      "execution_count": null,
      "outputs": [
        {
          "output_type": "stream",
          "name": "stdout",
          "text": [
            "Ingrese la distancia en metros: 70\n",
            "Ingrese el tiempo en segundos: 30\n",
            "La velocidad es: 2.3333333333333335 m/s\n"
          ]
        }
      ]
    }
  ]
}