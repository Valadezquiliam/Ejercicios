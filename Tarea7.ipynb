{
  "nbformat": 4,
  "nbformat_minor": 0,
  "metadata": {
    "colab": {
      "provenance": [],
      "authorship_tag": "ABX9TyPTIbu728PA5+3xYArqs9kI",
      "include_colab_link": true
    },
    "kernelspec": {
      "name": "python3",
      "display_name": "Python 3"
    },
    "language_info": {
      "name": "python"
    }
  },
  "cells": [
    {
      "cell_type": "markdown",
      "metadata": {
        "id": "view-in-github",
        "colab_type": "text"
      },
      "source": [
        "<a href=\"https://colab.research.google.com/github/Valadezquiliam/Ejercicios/blob/main/Tarea7.ipynb\" target=\"_parent\"><img src=\"https://colab.research.google.com/assets/colab-badge.svg\" alt=\"Open In Colab\"/></a>"
      ]
    },
    {
      "cell_type": "markdown",
      "source": [
        "# Tipos de datos de Phyton 3\n",
        "\n",
        "`int`"
      ],
      "metadata": {
        "id": "tEiA_hK7r4fn"
      }
    },
    {
      "cell_type": "code",
      "execution_count": 1,
      "metadata": {
        "colab": {
          "base_uri": "https://localhost:8080/"
        },
        "id": "fPHxbcCur28r",
        "outputId": "543da6f4-fef3-48b1-efd1-1883df640cbe"
      },
      "outputs": [
        {
          "output_type": "stream",
          "name": "stdout",
          "text": [
            "5\n"
          ]
        }
      ],
      "source": [
        "edad = 5\n",
        "print(edad)"
      ]
    },
    {
      "cell_type": "markdown",
      "source": [
        "`float`"
      ],
      "metadata": {
        "id": "goO8SgiNsQ39"
      }
    },
    {
      "cell_type": "code",
      "source": [
        "x = 89.72\n",
        "print(x)"
      ],
      "metadata": {
        "colab": {
          "base_uri": "https://localhost:8080/"
        },
        "id": "ncofg7G6sWIq",
        "outputId": "b3d89f16-3b3a-4bbc-f5e7-70d5a0332f11"
      },
      "execution_count": 2,
      "outputs": [
        {
          "output_type": "stream",
          "name": "stdout",
          "text": [
            "89.72\n"
          ]
        }
      ]
    },
    {
      "cell_type": "markdown",
      "source": [
        "`str`"
      ],
      "metadata": {
        "id": "tE23lXGyscRn"
      }
    },
    {
      "cell_type": "code",
      "source": [
        "saludo = \"Buenas tardes, bienvenido\"\n",
        "print(saludo)"
      ],
      "metadata": {
        "colab": {
          "base_uri": "https://localhost:8080/"
        },
        "id": "DztAwTAYsdH1",
        "outputId": "9b18c73f-a4e6-408f-f3de-e3ff01524df6"
      },
      "execution_count": 3,
      "outputs": [
        {
          "output_type": "stream",
          "name": "stdout",
          "text": [
            "Buenas tardes, bienvenido\n"
          ]
        }
      ]
    },
    {
      "cell_type": "markdown",
      "source": [
        "`list`"
      ],
      "metadata": {
        "id": "fUE3DK36ssee"
      }
    },
    {
      "cell_type": "code",
      "source": [
        "numeros = [4,5,6,7]\n",
        "print(numeros)"
      ],
      "metadata": {
        "colab": {
          "base_uri": "https://localhost:8080/"
        },
        "id": "O1hXC_GdswRU",
        "outputId": "13f1a034-ec33-41de-ccd4-55bcef433cd1"
      },
      "execution_count": 4,
      "outputs": [
        {
          "output_type": "stream",
          "name": "stdout",
          "text": [
            "[4, 5, 6, 7]\n"
          ]
        }
      ]
    },
    {
      "cell_type": "markdown",
      "source": [
        "`tuple`"
      ],
      "metadata": {
        "id": "1dMHO3yltRhF"
      }
    },
    {
      "cell_type": "code",
      "source": [
        "punto = (5,8)\n",
        "print(punto)"
      ],
      "metadata": {
        "colab": {
          "base_uri": "https://localhost:8080/"
        },
        "id": "5Dl9XDX2tWie",
        "outputId": "7eb8f865-cda7-4959-aa70-258b763538cb"
      },
      "execution_count": 12,
      "outputs": [
        {
          "output_type": "stream",
          "name": "stdout",
          "text": [
            "(5, 8)\n"
          ]
        }
      ]
    },
    {
      "cell_type": "markdown",
      "source": [
        "`dict`"
      ],
      "metadata": {
        "id": "HQLXv6SatrZf"
      }
    },
    {
      "cell_type": "code",
      "source": [
        "persona = {\"nombre\": \"Henry\", \"edad\": 16}\n",
        "print(persona[\"nombre\"])\n",
        "print(persona[\"edad\"])"
      ],
      "metadata": {
        "colab": {
          "base_uri": "https://localhost:8080/"
        },
        "id": "kmfs_o5It9F-",
        "outputId": "7479621a-e060-40cc-d312-7b5eb32ebfd2"
      },
      "execution_count": 14,
      "outputs": [
        {
          "output_type": "stream",
          "name": "stdout",
          "text": [
            "Henry\n",
            "16\n"
          ]
        }
      ]
    },
    {
      "cell_type": "markdown",
      "source": [
        "`set`"
      ],
      "metadata": {
        "id": "kZOss5L2v_Q2"
      }
    },
    {
      "cell_type": "code",
      "source": [
        "meses = {\"Julio\",\"Agosto\"}\n",
        "print(meses)"
      ],
      "metadata": {
        "colab": {
          "base_uri": "https://localhost:8080/"
        },
        "id": "OIpZ7kZIwCb9",
        "outputId": "e6e68a8e-7901-4f3a-d457-d0ddb370c399"
      },
      "execution_count": 17,
      "outputs": [
        {
          "output_type": "stream",
          "name": "stdout",
          "text": [
            "{'Agosto', 'Julio'}\n"
          ]
        }
      ]
    },
    {
      "cell_type": "markdown",
      "source": [
        "`bool`"
      ],
      "metadata": {
        "id": "NByOXnt0wcYl"
      }
    },
    {
      "cell_type": "code",
      "source": [
        "presente = True\n",
        "print(presente)"
      ],
      "metadata": {
        "colab": {
          "base_uri": "https://localhost:8080/"
        },
        "id": "BhzqaIuhwfmr",
        "outputId": "b3bccbe5-f35e-4433-a9d7-5ef0ad443540"
      },
      "execution_count": 19,
      "outputs": [
        {
          "output_type": "stream",
          "name": "stdout",
          "text": [
            "True\n"
          ]
        }
      ]
    }
  ]
}