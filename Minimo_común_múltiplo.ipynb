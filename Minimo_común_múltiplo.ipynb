{
  "nbformat": 4,
  "nbformat_minor": 0,
  "metadata": {
    "colab": {
      "provenance": [],
      "authorship_tag": "ABX9TyMudZ9lz31ShXZaD9RVb3ip",
      "include_colab_link": true
    },
    "kernelspec": {
      "name": "python3",
      "display_name": "Python 3"
    },
    "language_info": {
      "name": "python"
    }
  },
  "cells": [
    {
      "cell_type": "markdown",
      "metadata": {
        "id": "view-in-github",
        "colab_type": "text"
      },
      "source": [
        "<a href=\"https://colab.research.google.com/github/Valadezquiliam/Ejercicios/blob/main/Minimo_com%C3%BAn_m%C3%BAltiplo.ipynb\" target=\"_parent\"><img src=\"https://colab.research.google.com/assets/colab-badge.svg\" alt=\"Open In Colab\"/></a>"
      ]
    },
    {
      "cell_type": "code",
      "execution_count": 2,
      "metadata": {
        "colab": {
          "base_uri": "https://localhost:8080/"
        },
        "id": "4CJuaWWR_PEa",
        "outputId": "128df649-a01a-44a2-af65-0ef32dadd808"
      },
      "outputs": [
        {
          "output_type": "stream",
          "name": "stdout",
          "text": [
            "Ingrese el primer número:10\n",
            "Ingrese el segundo número:5\n",
            "El máximo común múltiplo es: 10\n"
          ]
        }
      ],
      "source": [
        "def gcd(a, b):\n",
        "    while b != 0:\n",
        "        r = a % b\n",
        "        a = b\n",
        "        b = r\n",
        "    return a\n",
        "\n",
        "def mcm(a, b):\n",
        "    return (a*b) // gcd(a, b)\n",
        "\n",
        "num1= int(input(\"Ingrese el primer número:\"))\n",
        "num2= int(input(\"Ingrese el segundo número:\"))\n",
        "print(\"El máximo común múltiplo es:\", mcm(num1, num2))"
      ]
    }
  ]
}