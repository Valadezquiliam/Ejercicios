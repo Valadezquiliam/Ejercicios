{
  "nbformat": 4,
  "nbformat_minor": 0,
  "metadata": {
    "colab": {
      "provenance": [],
      "authorship_tag": "ABX9TyO9NEuESd/9BTRmrWbwPqpa",
      "include_colab_link": true
    },
    "kernelspec": {
      "name": "python3",
      "display_name": "Python 3"
    },
    "language_info": {
      "name": "python"
    }
  },
  "cells": [
    {
      "cell_type": "markdown",
      "metadata": {
        "id": "view-in-github",
        "colab_type": "text"
      },
      "source": [
        "<a href=\"https://colab.research.google.com/github/Valadezquiliam/Ejercicios/blob/main/Minimo_com%C3%BAn_m%C3%BAltiplo.ipynb\" target=\"_parent\"><img src=\"https://colab.research.google.com/assets/colab-badge.svg\" alt=\"Open In Colab\"/></a>"
      ]
    },
    {
      "cell_type": "code",
      "execution_count": null,
      "metadata": {
        "colab": {
          "base_uri": "https://localhost:8080/"
        },
        "id": "4CJuaWWR_PEa",
        "outputId": "ac6e9114-8d2c-48db-cd22-d1acc68d310b"
      },
      "outputs": [
        {
          "output_type": "stream",
          "name": "stdout",
          "text": [
            "Ingrese el primer número:60\n",
            "Ingrese el segundo número:5\n",
            "El máximo común múltiplo es: 60\n"
          ]
        }
      ],
      "source": [
        "def gcd(a, b):\n",
        "    while b != 0:\n",
        "        r = a % b\n",
        "        a = b\n",
        "        b = r\n",
        "    return a\n",
        "\n",
        "def mcm(a, b):\n",
        "    return (a*b) // gdc(a, b)\n",
        "\n",
        "num1= int(input(\"Ingrese el primer número:\"))\n",
        "num2= int(input(\"Ingrese el segundo número:\"))\n",
        "print(\"El máximo común múltiplo es:\", mcm(num1, num2))"
      ]
    }
  ]
}